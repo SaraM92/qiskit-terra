{
 "cells": [
  {
   "cell_type": "markdown",
   "metadata": {
    "slideshow": {
     "slide_type": "slide"
    }
   },
   "source": [
    "<img src=\"ppl_header.png\" align=\"middle\">"
   ]
  },
  {
   "cell_type": "markdown",
   "metadata": {
    "slideshow": {
     "slide_type": "slide"
    }
   },
   "source": [
    "<img src=\"ppl_mot.png\" align=\"middle\">\n",
    " <p style=\"font-family:Bodoni MT; font-size:1em; color:#264245;\">\n",
    "Problems: </p>\n",
    "<ul style=\"font-family:Bodoni MT; font-size:0.5em; color:#264245; list-style-type:square; line-height:1.5em;\">\n",
    "  <li>Pulse programming in Qiskit is currently implemented as in-memory IR</li>\n",
    "  <li>QASM doesn’t allow for direct control of pulses</li>\n",
    "  <li>Researchers need greater control and must use pulses to be more target (backend) dependent for device characterization and hardware efficient programs and do not want to be tied to a specific gate model</li>\n",
    "</ul>\n",
    " <p style=\"font-family:Bodoni MT; font-size:1em; color:#264245;\">\n",
    "Solution: \n",
    "</p>\n",
    "<p style=\"font-family:Bodoni MT; font-size:0.5em; color:#264245;\">\n",
    "Device characterization and hardware efficient programs and do not want to be tied to a specific gate model\n",
    "Solution: Design a language and implement a parser/grammar using a standard Python package for pulse programming that may be interpreted to form a pulse schedule.\n",
    "</p>"
   ]
  },
  {
   "cell_type": "markdown",
   "metadata": {
    "slideshow": {
     "slide_type": "slide"
    }
   },
   "source": [
    "<img src=\"ppl_q3.png\" align=\"middle\">\n",
    "\n",
    "<ul style=\"font-family:Bodoni MT; font-size:0.5em; color:#264245; list-style-type:square; line-height:1.5em;\">\n",
    "  <li>Users are able to express their circuits directly using pulses or gates in OpenQASM and Qiskit Terra.</li>\n",
    "  <li>Creates a new set of objects and types and methods that allows the expression of any circuit using pulses.</li>\n",
    "    <ul style=\"font-family:Bodoni MT; font-size:1em; color:#264245; list-style-type:circle; line-height:1.5em;\">\n",
    "         <li>Channel: An object representing the channel the pulse run through in the specified backend device.</li>\n",
    "         <li>Pulse: An object representing a pulse (contains a list of real and complex samples that define the pulse shape).</li>\n",
    "         <li>Play: Plays a pulse onto a given channel.</li>\n",
    "         <li>Acquire: Acquires data from a given channel.</li>\n",
    "         <li>Measure: Measure the value of a pulse to obtain its value (0 or 1).</li>\n",
    "         <li>Barrier: A method of aligning different channels.</li>\n",
    "         <li>Delay: A method that waits for a duration before the next instruction.</li>\n",
    "</ul>\n",
    "</ul>"
   ]
  },
  {
   "cell_type": "markdown",
   "metadata": {
    "slideshow": {
     "slide_type": "slide"
    }
   },
   "source": [
    "<img src=\"ppl_gram.png\" align=\"middle\">\n"
   ]
  },
  {
   "cell_type": "markdown",
   "metadata": {
    "slideshow": {
     "slide_type": "subslide"
    }
   },
   "source": [
    "<img src=\"grammar.png\" align=\"middle\">"
   ]
  },
  {
   "cell_type": "markdown",
   "metadata": {
    "slideshow": {
     "slide_type": "slide"
    }
   },
   "source": [
    "<img src=\"ppl_rep.png\" align=\"middle\">\n"
   ]
  },
  {
   "cell_type": "markdown",
   "metadata": {
    "slideshow": {
     "slide_type": "subslide"
    }
   },
   "source": [
    "<img src=\"cx_qasm.png\" align=\"left\">\n",
    "<img src=\"u3_qasm.png\" align=\"right\">"
   ]
  },
  {
   "cell_type": "markdown",
   "metadata": {
    "slideshow": {
     "slide_type": "slide"
    }
   },
   "source": [
    "<img src=\"ppl_tel_n.png\" align=\"middle\">\n"
   ]
  },
  {
   "cell_type": "markdown",
   "metadata": {
    "slideshow": {
     "slide_type": "subslide"
    }
   },
   "source": [
    "<img src=\"teleportation_2.0.png\" align=\"middle\">"
   ]
  },
  {
   "cell_type": "markdown",
   "metadata": {
    "slideshow": {
     "slide_type": "slide"
    }
   },
   "source": [
    "<img src=\"ppl_tel_p.png\" align=\"middle\">\n"
   ]
  },
  {
   "cell_type": "markdown",
   "metadata": {
    "slideshow": {
     "slide_type": "subslide"
    }
   },
   "source": [
    "<img src=\"teleportation_3.0.png\" align=\"middle\">"
   ]
  },
  {
   "cell_type": "markdown",
   "metadata": {
    "slideshow": {
     "slide_type": "slide"
    }
   },
   "source": [
    "<img src=\"ppl_lexer.png\" align=\"middle\">\n"
   ]
  },
  {
   "cell_type": "markdown",
   "metadata": {
    "slideshow": {
     "slide_type": "subslide"
    }
   },
   "source": [
    "<img src=\"parser_lexer.png\" align=\"middle\">"
   ]
  },
  {
   "cell_type": "markdown",
   "metadata": {
    "slideshow": {
     "slide_type": "slide"
    }
   },
   "source": [
    "<img src=\"ppl_ast.png\" align=\"middle\">\n"
   ]
  },
  {
   "cell_type": "markdown",
   "metadata": {
    "slideshow": {
     "slide_type": "subslide"
    }
   },
   "source": [
    "<img src=\"ast_dag.png\" align=\"middle\">"
   ]
  },
  {
   "cell_type": "markdown",
   "metadata": {
    "slideshow": {
     "slide_type": "slide"
    }
   },
   "source": [
    "<img src=\"ppl_com.png\" align=\"middle\">\n",
    "\n",
    "\n",
    " <p style=\"font-family:Bodoni MT; font-size:0.5em; color:#264245;\">\n",
    "Detailed design and proof of concept and examples based on alt_almaden 20-qubit backend.</p>\n",
    " <p style=\"font-family:Bodoni MT; font-size:0.5em; color:#264245;\">\n",
    "Updated qasmlexer and qasmparser and nodes for new definitions.</p>\n",
    " <p style=\"font-family:Bodoni MT; font-size:0.5em; color:#264245;\">\n",
    "Included support for custom samples.</p>\n",
    " <p style=\"font-family:Bodoni MT; font-size:0.5em; color:#264245;\">\n",
    "AST - DAG - Command Definition hack\n",
    "Structured for seamless integration to QASM and future extensibility.</p>\n",
    " <p style=\"font-family:Bodoni MT; font-size:0.5em; color:#264245;\">\n",
    "Wrote first RFC ever with the proposal on a new pulse programming language QASM 3.0.</p>\n",
    " <p style=\"font-family:Bodoni MT; font-size:0.5em; color:#264245;\">\n",
    "Example code folder.</p>\n",
    "\n",
    "\n",
    "<p style=\"font-family:Bodoni MT; font-size:0.5em; color:#264245;\"> Codes and Example \n",
    "<a href=\"https://github.com/SaraM92/qiskit-terra/tree/master/qiskit/qasm\">here</a>\n",
    "</p>\n",
    "\n",
    "        "
   ]
  },
  {
   "cell_type": "markdown",
   "metadata": {
    "slideshow": {
     "slide_type": "slide"
    }
   },
   "source": [
    "<img src=\"Pictures/PPL/ppl_fut.png\" align=\"middle\">\n",
    "\n",
    "<ul style=\"font-family:Bodoni MT; font-size:0.5em; color:#264245; list-style-type:square; line-height:1.5em;\">\n",
    "  <li>Real implementation of converter to allow mixed types of pulses and gates and inline pulses to be sent to the command definition for gates</li>\n",
    "  <li>Add support for automatically getting pulse samples names from specific backends</li>\n",
    "  <li>Metadata for specific backends </li>\n",
    "  <li>Getting duration of pulse for use in delay()</li>\n",
    "  <li>Iterate based on suggestions from the community</li>\n",
    "</ul>"
   ]
  },
  {
   "cell_type": "markdown",
   "metadata": {
    "slideshow": {
     "slide_type": "slide"
    }
   },
   "source": [
    "<img src=\"Pictures/PPL/ppl_t.png\" align=\"middle\">\n",
    "\n",
    "\n",
    "<p  style=\"font-family:Bodoni MT; font-size:1em; color:#264245;\">\n",
    "Members:\n",
    "    </p>\n",
    "<ul style=\"font-family:Bodoni MT; font-size:0.5em; color:#264245; list-style-type:square; line-height:1.5em;\">\n",
    "  <li>Sara Metwalli</li>\n",
    "  <li>Shin Nishio</li>\n",
    "  <li>Ryo Wakizaka</li>\n",
    "  <li>Anastasia Marchenkova</li>\n",
    "</ul>\n",
    "<p  style=\"font-family:Bodoni MT; font-size:1em; color:#264245;\">\n",
    "Coaches:\n",
    "     </p>\n",
    "<ul style=\"font-family:Bodoni MT; font-size:0.5em; color:#264245; list-style-type:square; line-height:1.5em;\">\n",
    "  <li>Thomas Alexander</li>\n",
    "  <li>Maika Takita</li>\n",
    "</ul>   \n"
   ]
  },
  {
   "cell_type": "markdown",
   "metadata": {
    "slideshow": {
     "slide_type": "slide"
    }
   },
   "source": [
    "<img src=\"Pictures/PPL/ppl_rfc.png\" align=\"middle\">\n",
    "\n",
    "<p style=\"font-family:Bodoni MT; font-size:1em; color:#264245; line-height:1.5em;\">\n",
    "We welcome comments and suggestions on our RFC below as we continue implementation of the pulse programming language. \n",
    "</p>\n",
    "\n",
    "<p style=\"font-family:Bodoni MT; font-size:1em; color:#264245;\">\n",
    " <a href=\"https://github.com/SaraM92/qiskit-terra/blob/master/qiskit/qasm/Pulse%20Programming%20Language%20Documentation.md\n",
    "\">PPL RFC</a>\n",
    " </p>\n",
    "    "
   ]
  }
 ],
 "metadata": {
  "celltoolbar": "Slideshow",
  "kernelspec": {
   "display_name": "Python 3",
   "language": "python",
   "name": "python3"
  },
  "language_info": {
   "codemirror_mode": {
    "name": "ipython",
    "version": 3
   },
   "file_extension": ".py",
   "mimetype": "text/x-python",
   "name": "python",
   "nbconvert_exporter": "python",
   "pygments_lexer": "ipython3",
   "version": "3.7.3"
  },
  "latex_envs": {
   "LaTeX_envs_menu_present": true,
   "autoclose": true,
   "autocomplete": true,
   "bibliofile": "biblio.bib",
   "cite_by": "apalike",
   "current_citInitial": 1,
   "eqLabelWithNumbers": true,
   "eqNumInitial": 1,
   "hotkeys": {
    "equation": "Ctrl-E",
    "itemize": "Ctrl-I"
   },
   "labels_anchors": false,
   "latex_user_defs": false,
   "report_style_numbering": false,
   "user_envs_cfg": false
  },
  "toc": {
   "base_numbering": 1,
   "nav_menu": {},
   "number_sections": true,
   "sideBar": true,
   "skip_h1_title": false,
   "title_cell": "Table of Contents",
   "title_sidebar": "Contents",
   "toc_cell": false,
   "toc_position": {},
   "toc_section_display": true,
   "toc_window_display": false
  }
 },
 "nbformat": 4,
 "nbformat_minor": 2
}
